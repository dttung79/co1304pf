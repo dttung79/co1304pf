{
 "cells": [
  {
   "cell_type": "markdown",
   "metadata": {},
   "source": [
    "The syntax of the while loop is simple\n",
    "while condition:   \n",
    "    code to be executed in the loop\n",
    "The indented code is executed repeatedly whilst the condition is true\n",
    "when the condition becomes false, the loop terminates and the code execution moves on to the statement after the loop\n",
    "if the condition is not true initially, the loop contents are never executed\n",
    "if the condition never becomes false, the loop will execute forever (or until the program is stopped externally) – this is known as an infinite loop"
   ]
  },
  {
   "cell_type": "code",
   "execution_count": 3,
   "metadata": {},
   "outputs": [
    {
     "name": "stdout",
     "output_type": "stream",
     "text": [
      "****\n"
     ]
    }
   ],
   "source": [
    "counter = 0\n",
    "output = ''\n",
    "while counter < 4:\n",
    "    output += '*'\n",
    "    counter += 1\n",
    "print(output)\n"
   ]
  },
  {
   "cell_type": "code",
   "execution_count": null,
   "metadata": {},
   "outputs": [],
   "source": [
    "answer = 'yes'\n",
    "while answer == 'yes':\n",
    "    name = input('What is your name? ')\n",
    "    print('Hello, ' + name)\n",
    "    answer = input('Would you like to continue? (yes/no) ')\n",
    "print('Goodbye!')"
   ]
  },
  {
   "cell_type": "code",
   "execution_count": 6,
   "metadata": {},
   "outputs": [
    {
     "name": "stdout",
     "output_type": "stream",
     "text": [
      "Password is set!\n"
     ]
    }
   ],
   "source": [
    "valid_password = False\n",
    "\n",
    "while not valid_password:\n",
    "    password = input('Please enter your password: ')\n",
    "    if len(password) < 8:\n",
    "        print('Password is not long enough')\n",
    "    else:\n",
    "        valid_password = True\n",
    "\n",
    "print('Password is set!')"
   ]
  },
  {
   "cell_type": "code",
   "execution_count": null,
   "metadata": {},
   "outputs": [],
   "source": [
    "# Exercise 1: Ask user to enter 3 grades (english math science) and calculate the average\n",
    "# then print the average and ask if they would like to calculate another average\n",
    "# if yes, repeat the process\n",
    "# if no, print 'Goodbye!'\n",
    "answer = 'yes'\n",
    "while answer == 'yes':\n",
    "    english = int(input('Enter your English grade: '))\n",
    "    math = int(input('Enter your Math grade: '))\n",
    "    science = int(input('Enter your Science grade: '))\n",
    "    average = (english + math + science) / 3\n",
    "    print(f'Average grade: {average:.2f}')\n",
    "\n",
    "    answer = input('Would you like to calculate other grades? (yes/no) ')\n",
    "\n",
    "print('Goodbye!')"
   ]
  },
  {
   "cell_type": "code",
   "execution_count": null,
   "metadata": {},
   "outputs": [
    {
     "name": "stdout",
     "output_type": "stream",
     "text": [
      "Invalid birth year, must be between 1900 and 2020\n",
      "Invalid birth year, must be between 1900 and 2020\n",
      "You are 36 years old\n"
     ]
    }
   ],
   "source": [
    "# Exercise 2: Ask user to enter birth year and calculate their age\n",
    "# Birth year must be between 1900 and 2020\n",
    "# If not, ask user to enter again\n",
    "valid_birth_year = False\n",
    "\n",
    "while not valid_birth_year:\n",
    "    birth_year = int(input('Enter your birth year: '))\n",
    "    if 1900 > birth_year or birth_year > 2020:\n",
    "        print('Invalid birth year, must be between 1900 and 2020')\n",
    "    else:\n",
    "        valid_birth_year = True\n",
    "\n",
    "age = 2025 - birth_year\n",
    "print(f'You are {age} years old')"
   ]
  }
 ],
 "metadata": {
  "kernelspec": {
   "display_name": "Python 3",
   "language": "python",
   "name": "python3"
  },
  "language_info": {
   "codemirror_mode": {
    "name": "ipython",
    "version": 3
   },
   "file_extension": ".py",
   "mimetype": "text/x-python",
   "name": "python",
   "nbconvert_exporter": "python",
   "pygments_lexer": "ipython3",
   "version": "3.13.2"
  }
 },
 "nbformat": 4,
 "nbformat_minor": 2
}
