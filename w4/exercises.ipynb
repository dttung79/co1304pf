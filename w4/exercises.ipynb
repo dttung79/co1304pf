{
 "cells": [
  {
   "cell_type": "markdown",
   "metadata": {},
   "source": [
    "Exercise 1: Shipping Cost Calculator\n",
    "A company charges shipping fees based on the weight of a package. The rates are as follows:\n",
    "\n",
    "If the weight is <= 2 kg, the shipping cost is $5 per kg.\n",
    "If the weight is between 3 kg and 5 kg (inclusive), the shipping cost is $4 per kg.\n",
    "If the weight is more than 5 kg, the shipping cost is $3.5 per kg.\n",
    "Write a Python program that asks the user to input the weight of their package and then calculates the total shipping cost."
   ]
  },
  {
   "cell_type": "code",
   "execution_count": 2,
   "metadata": {},
   "outputs": [
    {
     "name": "stdout",
     "output_type": "stream",
     "text": [
      "Shipping cost: $ 20\n"
     ]
    }
   ],
   "source": [
    "weight = int(input(\"Enter package weight: \"))\n",
    "cost = 0\n",
    "if weight <= 0:\n",
    "    print(\"Invalid weight\")\n",
    "elif weight <= 2:\n",
    "    cost = weight * 5\n",
    "elif weight <= 6:\n",
    "    cost = weight * 4\n",
    "else:\n",
    "    cost = weight * 3.5\n",
    "\n",
    "print(\"Shipping cost: $\", cost)"
   ]
  },
  {
   "cell_type": "markdown",
   "metadata": {},
   "source": [
    "Exercise 2: Exam Grading System Based on Marks and Attendance\n",
    "A school calculates the final grade of a student based on their marks and attendance:\n",
    "\n",
    "If the student’s marks are 50 or more:\n",
    "\n",
    "If their attendance is 75% or more, they pass.\n",
    "Otherwise, they fail due to low attendance.\n",
    "If the student’s marks are below 50:\n",
    "\n",
    "If their attendance is 75% or more, they get a re-exam opportunity.\n",
    "Otherwise, they fail completely."
   ]
  },
  {
   "cell_type": "code",
   "execution_count": 4,
   "metadata": {},
   "outputs": [
    {
     "name": "stdout",
     "output_type": "stream",
     "text": [
      "Fail\n"
     ]
    }
   ],
   "source": [
    "grade = int(input(\"Enter grade: \"))\n",
    "attendance = int(input(\"Enter attendance: \"))\n",
    "\n",
    "if grade >= 50:\n",
    "    if attendance >= 75:\n",
    "        print(\"You passed\")\n",
    "    else:\n",
    "        print(\"Fail\")\n",
    "else:\n",
    "    if attendance >= 75:\n",
    "        print(\"Fail but you can retake the exam\")\n",
    "    else:\n",
    "        print(\"Fail\")"
   ]
  },
  {
   "cell_type": "code",
   "execution_count": null,
   "metadata": {},
   "outputs": [],
   "source": [
    "# Another solution to avoid redundancy code in case of fail\n",
    "if attendance < 75:\n",
    "    print(\"Fail\")\n",
    "else:\n",
    "    if grade >= 50:\n",
    "        print(\"You passed\")\n",
    "    else:\n",
    "        print(\"Fail but you can retake the exam\")"
   ]
  },
  {
   "cell_type": "markdown",
   "metadata": {},
   "source": [
    "Exercise 3: Enter 3 sides of a triangle and check if it is a valid triangle, then calculate its perimeter and area."
   ]
  },
  {
   "cell_type": "code",
   "execution_count": 5,
   "metadata": {},
   "outputs": [
    {
     "name": "stdout",
     "output_type": "stream",
     "text": [
      "Perimeter of triangle is:  12\n",
      "Area of triangle is: 6.00\n"
     ]
    }
   ],
   "source": [
    "a = int(input(\"Enter side a: \"))\n",
    "b = int(input(\"Enter side b: \"))\n",
    "c = int(input(\"Enter side c: \"))\n",
    "\n",
    "if a <= 0 or b <= 0 or c <= 0:\n",
    "    print(\"Invalid side, please enter positive number\")\n",
    "elif a + b <= c or a + c <= b or b + c <= a:\n",
    "    print(\"Invalid triangle, sum of 2 sides must > than the other side\")\n",
    "else:\n",
    "    p = (a + b + c)\n",
    "    print(\"Perimeter of triangle is: \", p)\n",
    "    p /= 2\n",
    "    s = (p * (p - a) * (p - b) * (p - c)) ** 0.5\n",
    "    print(f\"Area of triangle is: {s:.2f}\")"
   ]
  },
  {
   "cell_type": "code",
   "execution_count": null,
   "metadata": {},
   "outputs": [],
   "source": [
    "a = 4\n",
    "b = 5\n",
    "if a > b:\n",
    "    m = a\n",
    "else:\n",
    "    m = b\n",
    "\n",
    "m = a if a > b else b\n",
    "print(m)"
   ]
  }
 ],
 "metadata": {
  "kernelspec": {
   "display_name": "Python 3",
   "language": "python",
   "name": "python3"
  },
  "language_info": {
   "codemirror_mode": {
    "name": "ipython",
    "version": 3
   },
   "file_extension": ".py",
   "mimetype": "text/x-python",
   "name": "python",
   "nbconvert_exporter": "python",
   "pygments_lexer": "ipython3",
   "version": "3.13.2"
  }
 },
 "nbformat": 4,
 "nbformat_minor": 2
}
