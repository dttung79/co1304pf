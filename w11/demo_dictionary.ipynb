{
 "cells": [
  {
   "cell_type": "code",
   "execution_count": 1,
   "id": "85ec0a98",
   "metadata": {},
   "outputs": [],
   "source": [
    "rooms = {200: 'John', 105: 'Mary', 221: 'Paul', 300: 'Anna', 101: 'Tom'}"
   ]
  },
  {
   "cell_type": "code",
   "execution_count": 3,
   "id": "8ab454e5",
   "metadata": {},
   "outputs": [
    {
     "name": "stdout",
     "output_type": "stream",
     "text": [
      "John\n",
      "No room 400 found\n"
     ]
    }
   ],
   "source": [
    "# access value by key\n",
    "print(rooms[200])  # John\n",
    "room_number = int(input('Enter room number: '))\n",
    "# check if key exists\n",
    "if room_number in rooms:\n",
    "    print(f'{rooms[room_number]} is staying in room {room_number}')\n",
    "else:\n",
    "    print(f'No room {room_number} found')"
   ]
  },
  {
   "cell_type": "code",
   "execution_count": 6,
   "id": "98ea2f13",
   "metadata": {},
   "outputs": [
    {
     "name": "stdout",
     "output_type": "stream",
     "text": [
      "{200: 'John', 105: 'Mary', 221: 'Paul', 300: 'Anna', 101: 'Tom', 102: 'Kate'}\n",
      "Added Mkie Tyson to room 400\n",
      "{200: 'John', 105: 'Mary', 221: 'Paul', 300: 'Anna', 101: 'Tom', 102: 'Kate', 400: 'Mkie Tyson'}\n"
     ]
    }
   ],
   "source": [
    "# add new pair (key, value) to the dictionary\n",
    "rooms[102] = 'Kate'\n",
    "print(rooms)\n",
    "\n",
    "room_number = int(input('Enter room number: '))\n",
    "guest_name = input('Enter guest name: ')\n",
    "# check if key exists (because keys in dictionary must be unique)\n",
    "if room_number in rooms:\n",
    "    print(f'Room {room_number} is already occupied by {rooms[room_number]}')\n",
    "else:\n",
    "    # add new pair (key, value) to the dictionary\n",
    "    rooms[room_number] = guest_name\n",
    "    print(f'Added {guest_name} to room {room_number}')\n",
    "\n",
    "print(rooms)"
   ]
  },
  {
   "cell_type": "code",
   "execution_count": 7,
   "id": "7a38b1c9",
   "metadata": {},
   "outputs": [
    {
     "name": "stdout",
     "output_type": "stream",
     "text": [
      "{200: 'John', 105: 'Mary', 221: 'Paul', 300: 'Anna', 101: 'Tom', 102: 'Kate', 400: 'Mkie Tyson'}\n"
     ]
    }
   ],
   "source": [
    "print(rooms)"
   ]
  },
  {
   "cell_type": "code",
   "execution_count": 8,
   "id": "6e4ca816",
   "metadata": {},
   "outputs": [
    {
     "name": "stdout",
     "output_type": "stream",
     "text": [
      "{200: 'John', 105: 'Mary', 221: 'Paul', 300: 'Anna', 101: 'Tom', 102: 'Kate', 400: 'Mike Tyson'}\n"
     ]
    }
   ],
   "source": [
    "rooms[400] = 'Mike Tyson'   # same syntax as adding a new pair\n",
    "print(rooms)"
   ]
  },
  {
   "cell_type": "code",
   "execution_count": 10,
   "id": "b27e5b1d",
   "metadata": {},
   "outputs": [
    {
     "name": "stdout",
     "output_type": "stream",
     "text": [
      "Updated room 102 with Tom Hardy\n",
      "{200: 'John', 105: 'Mary', 221: 'Paul', 300: 'Anna', 101: 'Tom', 102: 'Tom Hardy', 400: 'Mike Tyson'}\n"
     ]
    }
   ],
   "source": [
    "room_number = int(input('Enter room number to edit: '))\n",
    "# check if key exists\n",
    "if room_number in rooms:\n",
    "    guest_name = input('Enter new guest name: ')\n",
    "    rooms[room_number] = guest_name  # update value for the key\n",
    "    print(f'Updated room {room_number} with {guest_name}')\n",
    "else:\n",
    "    print(f'No room {room_number} found')\n",
    "print(rooms)"
   ]
  },
  {
   "cell_type": "code",
   "execution_count": 12,
   "id": "104e2634",
   "metadata": {},
   "outputs": [
    {
     "name": "stdout",
     "output_type": "stream",
     "text": [
      "Deleted room 300\n",
      "{200: 'John', 105: 'Mary', 221: 'Paul', 101: 'Tom', 102: 'Tom Hardy', 400: 'Mike Tyson'}\n"
     ]
    }
   ],
   "source": [
    "# delete a pair (key, value) from the dictionary\n",
    "room_number = int(input('Enter room number to delete: '))\n",
    "# check if key exists\n",
    "if room_number not in rooms:\n",
    "    print(f'No room {room_number} found')\n",
    "else:\n",
    "    del rooms[room_number]\n",
    "    print(f'Deleted room {room_number}')\n",
    "print(rooms)"
   ]
  }
 ],
 "metadata": {
  "kernelspec": {
   "display_name": "Python 3",
   "language": "python",
   "name": "python3"
  },
  "language_info": {
   "codemirror_mode": {
    "name": "ipython",
    "version": 3
   },
   "file_extension": ".py",
   "mimetype": "text/x-python",
   "name": "python",
   "nbconvert_exporter": "python",
   "pygments_lexer": "ipython3",
   "version": "3.13.2"
  }
 },
 "nbformat": 4,
 "nbformat_minor": 5
}
