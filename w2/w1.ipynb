{
 "cells": [
  {
   "cell_type": "markdown",
   "metadata": {},
   "source": [
    "# Week 2 Summary\n",
    "\n",
    "In this notebook, we will learn about:\n",
    "- Variables\n",
    "- Naming conventions\n",
    "- Data types\n",
    "- Converting between types\n",
    "- Operators\n",
    "- Input and output\n",
    "- Examples"
   ]
  },
  {
   "cell_type": "markdown",
   "metadata": {},
   "source": [
    "## Variables\n",
    "\n",
    "A **variable** is like a container that holds a value in your program.\n",
    "\n",
    "### Assigning values to variables\n",
    "Variables are assigned with the `=` operator. For example:\n",
    "\n",
    "```\n",
    "course = \"COMP1753\"\n",
    "```\n",
    "\n",
    "### Reassigning variables\n",
    "You can change a variable's value at any time:\n",
    "```\n",
    "course = \"COMP1753\"\n",
    "course = \"NewCourse\"\n",
    "```\n",
    "\n",
    "### Multiple variables\n",
    "Your program can hold many variables, each with a unique, descriptive name like `first_name` or `last_name`."
   ]
  },
  {
   "cell_type": "code",
   "execution_count": 3,
   "metadata": {},
   "outputs": [
    {
     "name": "stdout",
     "output_type": "stream",
     "text": [
      "Initial course: COMP1753\n",
      "Updated course: NewCourse\n",
      "Hello, Alice Smith\n"
     ]
    }
   ],
   "source": [
    "# Example of assigning and reassigning variables\n",
    "course = \"COMP1753\"\n",
    "print(\"Initial course:\", course)\n",
    "\n",
    "course = \"NewCourse\"\n",
    "print(\"Updated course:\", course)\n",
    "\n",
    "# Multiple variables\n",
    "first_name = \"Alice\"\n",
    "last_name = \"Smith\"\n",
    "print(\"Hello,\", first_name, last_name)"
   ]
  },
  {
   "cell_type": "markdown",
   "metadata": {},
   "source": [
    "### Practice:\n",
    "1. Create a variable `city` and assign your city name.\n",
    "2. Reassign it to a different city name.\n",
    "3. Print both values to show the change."
   ]
  },
  {
   "cell_type": "code",
   "execution_count": 9,
   "metadata": {},
   "outputs": [
    {
     "name": "stdout",
     "output_type": "stream",
     "text": [
      "Ha Noi\n",
      "Hue\n"
     ]
    }
   ],
   "source": [
    "city = 'Ha Noi'\n",
    "print(city)\n",
    "city = 'Hue'\n",
    "print(city)"
   ]
  },
  {
   "cell_type": "markdown",
   "metadata": {},
   "source": [
    "## Naming variables\n",
    "\n",
    "Variables must follow these **rules**:\n",
    "- Must start with a letter or underscore (`_`).\n",
    "- Cannot start with a number.\n",
    "- Can only contain letters, numbers, and underscores.\n",
    "- Case-sensitive (`name` vs. `Name` vs. `NAME`).\n",
    "- Cannot be Python keywords (e.g., `from`, `if`, `else`, `True`).\n",
    "\n",
    "### Conventions\n",
    "- **Variables:** lowercase with underscores for multiple words (`first_name`).\n",
    "- **Constants:** uppercase with underscores (`VAT_RATE`).\n",
    "- **Meaningful names:** make your code more readable."
   ]
  },
  {
   "cell_type": "code",
   "execution_count": null,
   "metadata": {},
   "outputs": [],
   "source": [
    "# Examples of invalid variable names\n",
    "#1st_name = \"Alice\"\n",
    "#first-name = \"Alice\"\n",
    "#first name = \"Alice\""
   ]
  },
  {
   "cell_type": "code",
   "execution_count": 7,
   "metadata": {},
   "outputs": [],
   "source": [
    "# Examples of valid variable names\n",
    "first_name = \"Alice\" # using underscore convention\n",
    "firstName = \"Alice\"  # using camel case convention\n",
    "FIRST_NAME = \"Alice\" # using all caps convention for constants"
   ]
  },
  {
   "cell_type": "code",
   "execution_count": null,
   "metadata": {},
   "outputs": [],
   "source": [
    "# Example of case sensitivity that can lead to bugs\n",
    "firstName = \"Alice\"\n",
    "print(\"Hello,\", firstName)\n",
    "print(\"Hello,\", firstname) # This will cause an errorập"
   ]
  },
  {
   "cell_type": "markdown",
   "metadata": {},
   "source": [
    "### Practice:\n",
    "1. Write three variable names that are valid.\n",
    "2. Write three variable names that are invalid.\n",
    "3. Fix the invalid names."
   ]
  },
  {
   "cell_type": "markdown",
   "metadata": {},
   "source": [
    "## Data types\n",
    "\n",
    "### Strings\n",
    "Strings represent text. Enclose them in quotes (`\"Hello\"` or `'Hello'`).\n",
    "\n",
    "### Integers\n",
    "Whole numbers like `42`, `0`, `-7`.\n",
    "\n",
    "### Other types\n",
    "- **Booleans:** `True` or `False`.\n",
    "- **Floats:** numbers with a decimal point, like `3.14`."
   ]
  },
  {
   "cell_type": "code",
   "execution_count": null,
   "metadata": {},
   "outputs": [],
   "source": [
    "# Examples of different data types\n",
    "text_value = \"Hello, world!\"      # String\n",
    "number_value = 42                  # Integer\n",
    "pi_value = 3.14159                # Float\n",
    "is_student = True                 # Boolean\n",
    "\n",
    "print(text_value, number_value, pi_value, is_student)"
   ]
  },
  {
   "cell_type": "markdown",
   "metadata": {},
   "source": [
    "### Practice:\n",
    "1. Create a variable `message` that holds a string.\n",
    "2. Create an integer variable `year`.\n",
    "3. Create a float variable `price`.\n",
    "4. Print them all."
   ]
  },
  {
   "cell_type": "markdown",
   "metadata": {},
   "source": [
    "## Converting between types\n",
    "\n",
    "- `int(\"42\")` turns a string into an integer.\n",
    "- `str(42)` turns a number into a string.\n",
    "Useful for mixing numbers and text in output."
   ]
  },
  {
   "cell_type": "code",
   "execution_count": null,
   "metadata": {},
   "outputs": [],
   "source": [
    "# Converting between types\n",
    "age_str = \"20\"              # This is a string\n",
    "age_int = int(age_str)      # Convert string to integer\n",
    "\n",
    "print(age_str, type(age_str))\n",
    "print(age_int, type(age_int))\n",
    "\n",
    "# Convert integer to string\n",
    "year = 2023\n",
    "year_str = str(year)\n",
    "print(year_str, type(year_str))"
   ]
  },
  {
   "cell_type": "markdown",
   "metadata": {},
   "source": [
    "### Practice:\n",
    "1. Ask for a user's numeric input as a string.\n",
    "2. Convert it to an integer and print the result.\n",
    "3. Convert the integer back to a string and print it again."
   ]
  },
  {
   "cell_type": "markdown",
   "metadata": {},
   "source": [
    "## Operators\n",
    "\n",
    "### String operators\n",
    "- `+`: concatenates (joins) two strings.\n",
    "\n",
    "### Numeric operators\n",
    "- `+` addition\n",
    "- `-` subtraction\n",
    "- `*` multiplication\n",
    "- `/` division"
   ]
  },
  {
   "cell_type": "code",
   "execution_count": null,
   "metadata": {},
   "outputs": [],
   "source": [
    "# Operators\n",
    "greeting = \"Hello\" + \" \" + \"World!\"\n",
    "print(greeting)\n",
    "\n",
    "num1 = 10\n",
    "num2 = 3\n",
    "print(\"Sum:\", num1 + num2)\n",
    "print(\"Difference:\", num1 - num2)\n",
    "print(\"Product:\", num1 * num2)\n",
    "print(\"Quotient:\", num1 / num2)"
   ]
  },
  {
   "cell_type": "markdown",
   "metadata": {},
   "source": [
    "### Practice:\n",
    "1. Define two string variables and concatenate them.\n",
    "2. Define two integer variables and perform all the basic operations on them."
   ]
  },
  {
   "cell_type": "markdown",
   "metadata": {},
   "source": [
    "## Input and output\n",
    "\n",
    "- `input()`: takes input from the keyboard.\n",
    "- `print()`: displays output to the console."
   ]
  },
  {
   "cell_type": "code",
   "execution_count": null,
   "metadata": {},
   "outputs": [],
   "source": [
    "# Input/Output example\n",
    "# (Will not run properly here due to not being interactive in all environments)\n",
    "\n",
    "# name = input(\"Enter your name: \")\n",
    "# print(\"Hello,\", name)"
   ]
  },
  {
   "cell_type": "markdown",
   "metadata": {},
   "source": [
    "### Practice:\n",
    "1. Use `input()` to get the user's favorite color.\n",
    "2. Print a message including the color."
   ]
  },
  {
   "cell_type": "markdown",
   "metadata": {},
   "source": [
    "## Examples\n",
    "\n",
    "### HelloWorld.py\n",
    "Prints \"Hello, world!\" to the console.\n",
    "- Explanation\n",
    "- ```print``` Function:\n",
    "The print function is a built-in function in Python that outputs text to the console.\n",
    "It takes one or more arguments and prints them to the standard output (usually the screen).\n",
    "- ```string``` Argument:\n",
    "The text \"Hello, World!\" is a string, which is a sequence of characters enclosed in double quotes (\").\n",
    "Strings can also be enclosed in single quotes ('), but it's common to use double quotes for simple text.\n",
    "-Execution:\n",
    "When you run this code, Python executes the print function and displays the string \"Hello, World!\" on the screen."
   ]
  },
  {
   "cell_type": "code",
   "execution_count": null,
   "metadata": {},
   "outputs": [],
   "source": [
    "# Example: HelloWorld\n",
    "print(\"Hello, world!\")"
   ]
  },
  {
   "cell_type": "markdown",
   "metadata": {},
   "source": [
    "\n",
    "### HelloName.py\n",
    "Asks the user for their name and prints a greeting.\n",
    "\n",
    "The first line uses the built-in function ```input``` to display the prompt \"Enter your name: \" in the console and let the user type in their name. Whatever the user types is returned as a string and stored in the variable name. This lets the program remember what was typed so it can be used later in the program.\n",
    "\n",
    "The second line uses the built-in function ```print``` to display a message that greets the user. Here, ```print(\"Hello,\", name)``` combines the words \"Hello,\" with the value in name, producing an output like \"Hello, Alice\" if the user entered \"Alice.\" The comma in the print function arguments automatically adds a space between \"Hello,\" and the name in the output."
   ]
  },
  {
   "cell_type": "code",
   "execution_count": null,
   "metadata": {},
   "outputs": [],
   "source": [
    "name = input(\"Enter your name: \")\n",
    "print(\"Hello,\", name)"
   ]
  },
  {
   "cell_type": "markdown",
   "metadata": {},
   "source": [
    "### HelloAge.py\n",
    "Asks the user for their age and prints it.\n",
    "The variable ```age``` is assigned the value returned by the ```input``` function, which is a string. Then the ```int``` function converts the string to an integer, which is stored back in the variable ```age```. This allows the program to treat the user's age as a number for calculations or comparisons later.\n",
    "The ```print``` function then displays the message \"You are\" followed by the value stored in the variable ```age``` and the string \"years old.\" The comma in the ```print``` function arguments automatically adds a space between the words and variables in the output."
   ]
  },
  {
   "cell_type": "code",
   "execution_count": null,
   "metadata": {},
   "outputs": [],
   "source": [
    "age = input(\"Enter your age: \")\n",
    "age = int(age)\n",
    "print(\"You are\", age, \"years old.\")"
   ]
  },
  {
   "cell_type": "markdown",
   "metadata": {},
   "source": [
    "\n",
    "### HelloDOB.py\n",
    "Calculates the user's birth year by subtracting age from the current year.\n",
    "First the variable yob is entered by the user and stored as a string. Then it is converted to an integer using the int function and stored back in the variable yob. The variable age is calculated by subtracting yob from the current year. Finally, the program displays the message \"You were born in\" followed by the value stored in the variable age. The comma in the print function arguments automatically adds a space between the words and variables in the output."
   ]
  },
  {
   "cell_type": "code",
   "execution_count": null,
   "metadata": {},
   "outputs": [],
   "source": [
    "yob = input(\"Enter your year of birth: \")\n",
    "yob = int(yob)\n",
    "age = 2025 - yob\n",
    "print(\"You are\", age, \"years old.\")"
   ]
  }
 ],
 "metadata": {
  "kernelspec": {
   "display_name": "Python 3",
   "language": "python",
   "name": "python3"
  },
  "language_info": {
   "codemirror_mode": {
    "name": "ipython",
    "version": 3
   },
   "file_extension": ".py",
   "mimetype": "text/x-python",
   "name": "python",
   "nbconvert_exporter": "python",
   "pygments_lexer": "ipython3",
   "version": "3.12.4"
  }
 },
 "nbformat": 4,
 "nbformat_minor": 2
}
