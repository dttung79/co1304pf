{
 "cells": [
  {
   "cell_type": "code",
   "execution_count": null,
   "metadata": {},
   "outputs": [
    {
     "name": "stdout",
     "output_type": "stream",
     "text": [
      "Decimal: | 1234|\n",
      "Decimal: |      1234|\n",
      "Decimal: |1234|\n"
     ]
    }
   ],
   "source": [
    "# format numbers and strings:\n",
    "# d: decimal\n",
    "# f: float\n",
    "# e: scientific notation\n",
    "# %: percent\n",
    "# s: string\n",
    "# x: hexadecimal\n",
    "a = 1234\n",
    "b = 3.1415926\n",
    "s = \"hello world\"\n",
    "print(f'Decimal: |{a:5d}|')     # reserve 5 spaces for the number\n",
    "print(f'Decimal: |{a:10d}|')    # reserve 10 spaces\n",
    "print(f'Decimal: |{a:2d}|')     # reserve 2 spaces (not enough)"
   ]
  },
  {
   "cell_type": "code",
   "execution_count": 2,
   "metadata": {},
   "outputs": [
    {
     "name": "stdout",
     "output_type": "stream",
     "text": [
      "Float: |3.141593|\n",
      "Float: |  3.141593|\n",
      "Float: | 3.14|\n",
      "Float: |      3.14|\n",
      "Float: |3.14|\n"
     ]
    }
   ],
   "source": [
    "print(f'Float: |{b:5f}|')       # reserve 5 spaces for the number\n",
    "print(f'Float: |{b:10f}|')      # reserve 10 spaces\n",
    "print(f'Float: |{b:5.2f}|')     # reserve 5 spaces for the number of which 2 are after the decimal\n",
    "print(f'Float: |{b:10.2f}|')    # reserve 10 spaces for the number of which 2 are after the decimal\n",
    "print(f'Float: |{b:.2f}|')      # 2 spaces after the decimal, the rest is automatically reserved"
   ]
  },
  {
   "cell_type": "code",
   "execution_count": 7,
   "metadata": {},
   "outputs": [
    {
     "name": "stdout",
     "output_type": "stream",
     "text": [
      "Scientific: |3.14e+00|\n",
      "Scientific: |3.1416e+00|\n",
      "Percent: |2.47e-02|\n",
      "Percent: |  2.47e-02|\n"
     ]
    }
   ],
   "source": [
    "# scientific notation\n",
    "print(f'Scientific: |{b:.2e}|')  # 2 spaces after the decimal, the rest is automatically reserved\n",
    "print(f'Scientific: |{b:10.4e}|') # reserve 10 spaces for the number of which 4 are after the decimal\n",
    "f = 0.02468\n",
    "print(f'Percent: |{f:.2e}|')    # 2 spaces after the decimal, the rest is automatically reserved\n",
    "print(f'Percent: |{f:10.2e}|')  # reserve 10 spaces for the number of which 2 are after the decimal"
   ]
  },
  {
   "cell_type": "code",
   "execution_count": 8,
   "metadata": {},
   "outputs": [
    {
     "name": "stdout",
     "output_type": "stream",
     "text": [
      "Percent: |50.00%|\n"
     ]
    }
   ],
   "source": [
    "a = 1/2\n",
    "print(f'Percent: |{a:.2%}|')    # 2 spaces after the decimal, the rest is automatically reserved"
   ]
  },
  {
   "cell_type": "code",
   "execution_count": 11,
   "metadata": {},
   "outputs": [
    {
     "name": "stdout",
     "output_type": "stream",
     "text": [
      "Hexadecimal: |a9|\n",
      "Hexadecimal: |A9|\n"
     ]
    }
   ],
   "source": [
    "a = 169\n",
    "print(f'Hexadecimal: |{a:x}|')  # hexadecimal\n",
    "print(f'Hexadecimal: |{a:X}|')  # hexadecimal (uppercase)"
   ]
  },
  {
   "cell_type": "code",
   "execution_count": 14,
   "metadata": {},
   "outputs": [
    {
     "name": "stdout",
     "output_type": "stream",
     "text": [
      "|   10|\n",
      "|10   |\n"
     ]
    }
   ],
   "source": [
    "# Align output\n",
    "# by default, numbers are right aligned, strings are left aligned\n",
    "a = 10\n",
    "s = '10'\n",
    "print(f'|{a:5d}|')      # right aligned\n",
    "print(f'|{s:5s}|')      # left aligned"
   ]
  },
  {
   "cell_type": "code",
   "execution_count": 15,
   "metadata": {},
   "outputs": [
    {
     "name": "stdout",
     "output_type": "stream",
     "text": [
      "|10   |\n",
      "|   10|\n",
      "| 10  |\n"
     ]
    }
   ],
   "source": [
    "# Manually align\n",
    "# > : right aligned\n",
    "# < : left aligned\n",
    "# ^ : center aligned\n",
    "print(f'|{a:<5d}|')     # left aligned\n",
    "print(f'|{a:>5d}|')     # right aligned\n",
    "print(f'|{a:^5d}|')     # center aligned"
   ]
  },
  {
   "cell_type": "code",
   "execution_count": 16,
   "metadata": {},
   "outputs": [],
   "source": [
    "product = input(\"Enter product name: \")\n",
    "price = float(input(\"Enter product price: \"))\n",
    "quantity = int(input(\"Enter product quantity: \"))"
   ]
  },
  {
   "cell_type": "code",
   "execution_count": 25,
   "metadata": {},
   "outputs": [
    {
     "name": "stdout",
     "output_type": "stream",
     "text": [
      "+--------+----------------+\n",
      "|Product |           Apple|\n",
      "+--------+----------------+\n",
      "|Price   |            1.50|\n",
      "+--------+----------------+\n",
      "|Quantity|             200|\n",
      "+--------+----------------+\n",
      "|Total   |          300.00|\n",
      "+--------+----------------+\n"
     ]
    },
    {
     "data": {
      "text/plain": [
       "'hello'"
      ]
     },
     "execution_count": 25,
     "metadata": {},
     "output_type": "execute_result"
    }
   ],
   "source": [
    "print('+--------+----------------+')\n",
    "print(f'|{\"Product\":<8s}|{product:>16s}|')\n",
    "print('+--------+----------------+')\n",
    "print(f'|{\"Price\":<8s}|{price:>16.2f}|')\n",
    "print('+--------+----------------+')\n",
    "print(f'|{\"Quantity\":<8s}|{quantity:>16d}|')\n",
    "print('+--------+----------------+')\n",
    "total = price * quantity\n",
    "print(f'|{\"Total\":<8s}|{total:>16.2f}|')\n",
    "print('+--------+----------------+')\n",
    "\"hello\""
   ]
  },
  {
   "cell_type": "code",
   "execution_count": null,
   "metadata": {},
   "outputs": [],
   "source": []
  }
 ],
 "metadata": {
  "kernelspec": {
   "display_name": "Python 3",
   "language": "python",
   "name": "python3"
  },
  "language_info": {
   "codemirror_mode": {
    "name": "ipython",
    "version": 3
   },
   "file_extension": ".py",
   "mimetype": "text/x-python",
   "name": "python",
   "nbconvert_exporter": "python",
   "pygments_lexer": "ipython3",
   "version": "3.13.2"
  }
 },
 "nbformat": 4,
 "nbformat_minor": 2
}
