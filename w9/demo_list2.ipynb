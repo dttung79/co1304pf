{
 "cells": [
  {
   "cell_type": "code",
   "execution_count": 1,
   "metadata": {},
   "outputs": [
    {
     "name": "stdout",
     "output_type": "stream",
     "text": [
      "Numbers: [72, 95, 53, 73, 89, 69, 20, 21, 30, 42]\n"
     ]
    }
   ],
   "source": [
    "# Basic list algorithms: sum, min, max, count, search, sort\n",
    "# Python supports with built-in functions\n",
    "import random as rd\n",
    "numbers = rd.sample(range(1, 100), 10)\n",
    "print(\"Numbers:\", numbers)"
   ]
  },
  {
   "cell_type": "code",
   "execution_count": 5,
   "metadata": {},
   "outputs": [
    {
     "name": "stdout",
     "output_type": "stream",
     "text": [
      "Sum = 564\n",
      "Min = 20\n",
      "Max = 95\n",
      "Count = 10\n",
      "Search 53 = 2\n"
     ]
    }
   ],
   "source": [
    "print(f'Sum = {sum(numbers)}')\n",
    "print(f'Min = {min(numbers)}')\n",
    "print(f'Max = {max(numbers)}')\n",
    "print(f'Count = {len(numbers)}')\n",
    "print(f'Search 53 = {numbers.index(53)}')"
   ]
  },
  {
   "cell_type": "code",
   "execution_count": 6,
   "metadata": {},
   "outputs": [
    {
     "name": "stdout",
     "output_type": "stream",
     "text": [
      "Sorted = [20, 21, 30, 42, 53, 69, 72, 73, 89, 95]\n"
     ]
    }
   ],
   "source": [
    "sorted_numbers = sorted(numbers)\n",
    "print(f'Sorted = {sorted_numbers}')"
   ]
  },
  {
   "cell_type": "code",
   "execution_count": 19,
   "metadata": {},
   "outputs": [],
   "source": [
    "fruits = ['apple', 'banana', 'cherry', 'kiwi', 'mango', 'orange', 'grapes']\n",
    "prices = [1.2, 0.5, 0.75, 2.5, 2.0, 0.8, 1.0]\n",
    "quantities = [120, 200, 80, 50, 110, 200, 180]"
   ]
  },
  {
   "cell_type": "code",
   "execution_count": 20,
   "metadata": {},
   "outputs": [
    {
     "name": "stdout",
     "output_type": "stream",
     "text": [
      "banana has lowest price: $0.5\n"
     ]
    }
   ],
   "source": [
    "# print product that has lowest price\n",
    "min_price = prices[0]\n",
    "min_index = 0\n",
    "\n",
    "for i in range(1, len(prices)):\n",
    "    if prices[i] < min_price:\n",
    "        min_price = prices[i]\n",
    "        min_index = i\n",
    "\n",
    "print(f'{fruits[min_index]} has lowest price: ${min_price}')"
   ]
  },
  {
   "cell_type": "code",
   "execution_count": 21,
   "metadata": {},
   "outputs": [
    {
     "name": "stdout",
     "output_type": "stream",
     "text": [
      "kiwi has highest price: $2.5\n",
      "banana has highest quantity: 200 pcs\n"
     ]
    }
   ],
   "source": [
    "# Ex1: Find fruit has highest price\n",
    "max_price = prices[0]\n",
    "max_index = 0\n",
    "\n",
    "for i in range(1, len(prices)):\n",
    "    if prices[i] > max_price:\n",
    "        max_price = prices[i]\n",
    "        max_index = i\n",
    "\n",
    "print(f'{fruits[max_index]} has highest price: ${max_price}')\n",
    "\n",
    "# Ex2: Find fruit has highest quantity\n",
    "max_quantity = quantities[0]\n",
    "max_index = 0\n",
    "\n",
    "for i in range(1, len(quantities)):\n",
    "    if quantities[i] > max_quantity:\n",
    "        max_quantity = quantities[i]\n",
    "        max_index = i\n",
    "print(f'{fruits[max_index]} has highest quantity: {max_quantity} pcs')"
   ]
  },
  {
   "cell_type": "code",
   "execution_count": 23,
   "metadata": {},
   "outputs": [
    {
     "name": "stdout",
     "output_type": "stream",
     "text": [
      "mango has highest total value: $220.0\n"
     ]
    }
   ],
   "source": [
    "# Ex3: Find fruit that has total value (price * quantity) is highest\n",
    "max_total = prices[0] * quantities[0]\n",
    "max_index = 0\n",
    "\n",
    "for i in range(1, len(fruits)):\n",
    "    if prices[i] * quantities[i] > max_total:\n",
    "        max_total = prices[i] * quantities[i]   # update max_total at new index\n",
    "        max_index = i                           # update max_index at new index\n",
    "\n",
    "print(f'{fruits[max_index]} has highest total value: ${max_total}')"
   ]
  },
  {
   "cell_type": "code",
   "execution_count": 24,
   "metadata": {},
   "outputs": [
    {
     "name": "stdout",
     "output_type": "stream",
     "text": [
      "banana: $0.5\n",
      "cherry: $0.75\n",
      "orange: $0.8\n"
     ]
    }
   ],
   "source": [
    "# print fruits that have price < 1.0\n",
    "for i in range(len(prices)):\n",
    "    if prices[i] < 1.0:\n",
    "        print(f'{fruits[i]}: ${prices[i]}')"
   ]
  },
  {
   "cell_type": "code",
   "execution_count": 27,
   "metadata": {},
   "outputs": [
    {
     "name": "stdout",
     "output_type": "stream",
     "text": [
      "apple: 120 pcs\n",
      "banana: 200 pcs\n",
      "mango: 110 pcs\n",
      "orange: 200 pcs\n",
      "grapes: 180 pcs\n",
      "Total fruits with quantity > 100: 5\n",
      "mango: $220.0\n",
      "orange: $160.0\n",
      "grapes: $180.0\n",
      "Total fruits with total value > 150: 3\n"
     ]
    }
   ],
   "source": [
    "# Ex4: print fruits that have quantities > 100, count them\n",
    "count = 0\n",
    "for i in range(len(fruits)):\n",
    "    if quantities[i] > 100:\n",
    "        print(f'{fruits[i]}: {quantities[i]} pcs')\n",
    "        count += 1\n",
    "print(f'Total fruits with quantity > 100: {count}')\n",
    "# Ex5: print fruits that have total value > 150, count them\n",
    "count = 0\n",
    "for i in range(len(fruits)):\n",
    "    if prices[i] * quantities[i] > 150:\n",
    "        print(f'{fruits[i]}: ${prices[i] * quantities[i]}')\n",
    "        count += 1\n",
    "print(f'Total fruits with total value > 150: {count}')"
   ]
  }
 ],
 "metadata": {
  "kernelspec": {
   "display_name": "Python 3",
   "language": "python",
   "name": "python3"
  },
  "language_info": {
   "codemirror_mode": {
    "name": "ipython",
    "version": 3
   },
   "file_extension": ".py",
   "mimetype": "text/x-python",
   "name": "python",
   "nbconvert_exporter": "python",
   "pygments_lexer": "ipython3",
   "version": "3.13.2"
  }
 },
 "nbformat": 4,
 "nbformat_minor": 2
}
