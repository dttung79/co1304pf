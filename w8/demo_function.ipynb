{
 "cells": [
  {
   "cell_type": "code",
   "execution_count": 3,
   "metadata": {},
   "outputs": [],
   "source": [
    "# define a simple function\n",
    "def hello():\n",
    "    print('Hello Python World!')\n",
    "    print('It is a beautiful programming language!')"
   ]
  },
  {
   "cell_type": "code",
   "execution_count": 4,
   "metadata": {},
   "outputs": [
    {
     "name": "stdout",
     "output_type": "stream",
     "text": [
      "Hello Python World!\n",
      "It is a beautiful programming language!\n"
     ]
    }
   ],
   "source": [
    "hello() # call the function or invoke the function"
   ]
  },
  {
   "cell_type": "code",
   "execution_count": null,
   "metadata": {},
   "outputs": [
    {
     "name": "stdout",
     "output_type": "stream",
     "text": [
      "Hello Python World!\n",
      "It is a beautiful programming language!\n"
     ]
    }
   ],
   "source": [
    "hello() # call it again, it will print the same message again"
   ]
  },
  {
   "cell_type": "code",
   "execution_count": 6,
   "metadata": {},
   "outputs": [],
   "source": [
    "# A function with a parameter\n",
    "def hello(language):\n",
    "    print('Hello ' + language + ' World!')\n",
    "    print('It is a beautiful programming language!')"
   ]
  },
  {
   "cell_type": "code",
   "execution_count": 7,
   "metadata": {},
   "outputs": [
    {
     "name": "stdout",
     "output_type": "stream",
     "text": [
      "Hello Python World!\n",
      "It is a beautiful programming language!\n",
      "Hello Java World!\n",
      "It is a beautiful programming language!\n"
     ]
    }
   ],
   "source": [
    "hello('Python') # call the function, pass the value 'Python'\n",
    "hello('Java') # call the function, pass the value 'Java'"
   ]
  },
  {
   "cell_type": "code",
   "execution_count": 8,
   "metadata": {},
   "outputs": [],
   "source": [
    "# A function with two parameters\n",
    "def hello(language, description):\n",
    "    print('Hello ' + language + ' World!')\n",
    "    print('It is a ' + description + ' programming language!')"
   ]
  },
  {
   "cell_type": "code",
   "execution_count": 9,
   "metadata": {},
   "outputs": [
    {
     "name": "stdout",
     "output_type": "stream",
     "text": [
      "Hello Python World!\n",
      "It is a simple programming language!\n",
      "Hello Java World!\n",
      "It is a powerful programming language!\n"
     ]
    }
   ],
   "source": [
    "hello('Python', 'simple')\n",
    "hello('Java', 'powerful')"
   ]
  },
  {
   "cell_type": "code",
   "execution_count": 10,
   "metadata": {},
   "outputs": [],
   "source": [
    "def print_triangle(n):\n",
    "    for i in range(n):\n",
    "        for j in range(i+1):\n",
    "            print('* ', end='')\n",
    "        print()"
   ]
  },
  {
   "cell_type": "code",
   "execution_count": null,
   "metadata": {},
   "outputs": [],
   "source": [
    "print_triangle(4)"
   ]
  },
  {
   "cell_type": "code",
   "execution_count": null,
   "metadata": {},
   "outputs": [],
   "source": [
    "print_triangle(8)"
   ]
  },
  {
   "cell_type": "code",
   "execution_count": 13,
   "metadata": {},
   "outputs": [],
   "source": [
    "# Ex1: rewrite print_triangle with 2 parameters\n",
    "# n: number of rows\n",
    "# symbol: the symbol to print\n",
    "def print_triangle(n, symbol):\n",
    "    for i in range(n):\n",
    "        for j in range(i+1):\n",
    "            print(symbol + ' ', end='')\n",
    "        print()"
   ]
  },
  {
   "cell_type": "code",
   "execution_count": 14,
   "metadata": {},
   "outputs": [
    {
     "name": "stdout",
     "output_type": "stream",
     "text": [
      "% \n",
      "% % \n",
      "% % % \n",
      "% % % % \n",
      "% % % % % \n"
     ]
    }
   ],
   "source": [
    "print_triangle(5, '%')"
   ]
  },
  {
   "cell_type": "code",
   "execution_count": 15,
   "metadata": {},
   "outputs": [
    {
     "name": "stdout",
     "output_type": "stream",
     "text": [
      "$ \n",
      "$ $ \n",
      "$ $ $ \n",
      "$ $ $ $ \n"
     ]
    }
   ],
   "source": [
    "print_triangle(4, '$')"
   ]
  },
  {
   "cell_type": "code",
   "execution_count": 16,
   "metadata": {},
   "outputs": [
    {
     "name": "stdout",
     "output_type": "stream",
     "text": [
      "3\n",
      "6\n",
      "3\n"
     ]
    }
   ],
   "source": [
    "# function that return a value\n",
    "def my_len(a):\n",
    "    count = 0\n",
    "    for i in a:\n",
    "        count += 1\n",
    "    return count\n",
    "# call the function, store the return value in a variable\n",
    "n = my_len([1, 2, 'a'])\n",
    "print(n)\n",
    "\n",
    "# using the return of the function in an expression\n",
    "n = my_len([1, 2, 3]) + my_len(['a', 'b', 'c'])\n",
    "print(n)\n",
    "\n",
    "# use return value of the function as a parameter of another function\n",
    "print(my_len([1, 2, 3]))"
   ]
  },
  {
   "cell_type": "code",
   "execution_count": 17,
   "metadata": {},
   "outputs": [],
   "source": [
    "def my_max(a, b):\n",
    "    if a > b:\n",
    "        return a\n",
    "    return b"
   ]
  },
  {
   "cell_type": "code",
   "execution_count": 18,
   "metadata": {},
   "outputs": [
    {
     "name": "stdout",
     "output_type": "stream",
     "text": [
      "5\n"
     ]
    }
   ],
   "source": [
    "print(my_max(3, 5))"
   ]
  },
  {
   "cell_type": "code",
   "execution_count": 19,
   "metadata": {},
   "outputs": [
    {
     "name": "stdout",
     "output_type": "stream",
     "text": [
      "4\n"
     ]
    }
   ],
   "source": [
    "m = my_max(4, 2)\n",
    "print(m)"
   ]
  },
  {
   "cell_type": "code",
   "execution_count": 20,
   "metadata": {},
   "outputs": [],
   "source": [
    "def my_max(items):\n",
    "    m = items[0]\n",
    "    for i in range(len(items)):\n",
    "        if items[i] > m:\n",
    "            m = items[i]\n",
    "    return m"
   ]
  },
  {
   "cell_type": "code",
   "execution_count": 21,
   "metadata": {},
   "outputs": [
    {
     "name": "stdout",
     "output_type": "stream",
     "text": [
      "7\n"
     ]
    }
   ],
   "source": [
    "a = [3, 5, 2, 7, 1]\n",
    "print(my_max(a))"
   ]
  },
  {
   "cell_type": "code",
   "execution_count": 22,
   "metadata": {},
   "outputs": [
    {
     "name": "stdout",
     "output_type": "stream",
     "text": [
      "Found\n",
      "Not Found\n"
     ]
    }
   ],
   "source": [
    "# Ex2: write a function that find x in a list of items\n",
    "# Return True if x is in the list, otherwise return False\n",
    "def find_x(items, x):\n",
    "    found = False\n",
    "    for item in items:\n",
    "        if x == item:\n",
    "            found = True\n",
    "            break\n",
    "    return found\n",
    "\n",
    "items = [3, 5, 2, 7, 1]\n",
    "if find_x(items, 7):\n",
    "    print('Found')\n",
    "\n",
    "if not find_x(items, 8):\n",
    "    print('Not Found')\n"
   ]
  }
 ],
 "metadata": {
  "kernelspec": {
   "display_name": "Python 3",
   "language": "python",
   "name": "python3"
  },
  "language_info": {
   "codemirror_mode": {
    "name": "ipython",
    "version": 3
   },
   "file_extension": ".py",
   "mimetype": "text/x-python",
   "name": "python",
   "nbconvert_exporter": "python",
   "pygments_lexer": "ipython3",
   "version": "3.13.2"
  }
 },
 "nbformat": 4,
 "nbformat_minor": 2
}
