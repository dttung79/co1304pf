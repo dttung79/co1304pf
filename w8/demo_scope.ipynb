{
 "cells": [
  {
   "cell_type": "code",
   "execution_count": null,
   "metadata": {},
   "outputs": [],
   "source": [
    "# scope of a function: the region of the program where a variable is defined\n",
    "# outside the scope of a function: global scope\n",
    "# inside the scope of a function: local scope\n",
    "# a variable defined in a function is only accessible within that function\n",
    "# a variable defined in a function is a local variable\n",
    "# a variable defined outside a function is a global variable\n",
    "# a global variable can be accessed from any function\n",
    "# a global variable can be modified from any function"
   ]
  },
  {
   "cell_type": "code",
   "execution_count": null,
   "metadata": {},
   "outputs": [
    {
     "name": "stdout",
     "output_type": "stream",
     "text": [
      "4 4\n",
      "10\n"
     ]
    }
   ],
   "source": [
    "a = 10  # a is a global variable\n",
    "def my_function(a):\n",
    "    b = a + 2   # b is a local variable\n",
    "    a = a * 2   # a is a local variable\n",
    "    print(a, b)\n",
    "\n",
    "my_function(2)  # pass value 2 to local a in the function\n",
    "print(a)  # global a is still 10"
   ]
  },
  {
   "cell_type": "code",
   "execution_count": null,
   "metadata": {},
   "outputs": [
    {
     "name": "stdout",
     "output_type": "stream",
     "text": [
      "20 12\n",
      "10\n"
     ]
    }
   ],
   "source": [
    "my_function(a)  # pass value of global a to local a in the function\n",
    "print(a)  # global a is still 10"
   ]
  },
  {
   "cell_type": "code",
   "execution_count": null,
   "metadata": {},
   "outputs": [
    {
     "name": "stdout",
     "output_type": "stream",
     "text": [
      "20\n",
      "20\n"
     ]
    }
   ],
   "source": [
    "# global variable can be accessed inside a function with the global keyword\n",
    "def another_function():\n",
    "    global a\n",
    "    a = a * 2\n",
    "    print(a)\n",
    "\n",
    "another_function()  # modify global a\n",
    "print(a)  # global a is now 20"
   ]
  },
  {
   "cell_type": "code",
   "execution_count": 4,
   "metadata": {},
   "outputs": [
    {
     "name": "stdout",
     "output_type": "stream",
     "text": [
      "John Doe\n"
     ]
    }
   ],
   "source": [
    "# outside cannot access local variable\n",
    "def yet_another_function(last_name, first_name):\n",
    "    full_name = first_name + ' ' + last_name\n",
    "    print(full_name)\n",
    "\n",
    "# outside does not know full_name\n",
    "yet_another_function('Doe', 'John')"
   ]
  },
  {
   "cell_type": "code",
   "execution_count": 5,
   "metadata": {},
   "outputs": [
    {
     "ename": "NameError",
     "evalue": "name 'full_name' is not defined",
     "output_type": "error",
     "traceback": [
      "\u001b[0;31m---------------------------------------------------------------------------\u001b[0m",
      "\u001b[0;31mNameError\u001b[0m                                 Traceback (most recent call last)",
      "Cell \u001b[0;32mIn[5], line 1\u001b[0m\n\u001b[0;32m----> 1\u001b[0m \u001b[38;5;28mprint\u001b[39m(\u001b[43mfull_name\u001b[49m)  \u001b[38;5;66;03m# NameError: name 'full_name' is not defined\u001b[39;00m\n",
      "\u001b[0;31mNameError\u001b[0m: name 'full_name' is not defined"
     ]
    }
   ],
   "source": [
    "print(full_name)  # NameError: name 'full_name' is not defined"
   ]
  }
 ],
 "metadata": {
  "kernelspec": {
   "display_name": "Python 3",
   "language": "python",
   "name": "python3"
  },
  "language_info": {
   "codemirror_mode": {
    "name": "ipython",
    "version": 3
   },
   "file_extension": ".py",
   "mimetype": "text/x-python",
   "name": "python",
   "nbconvert_exporter": "python",
   "pygments_lexer": "ipython3",
   "version": "3.13.2"
  }
 },
 "nbformat": 4,
 "nbformat_minor": 2
}
