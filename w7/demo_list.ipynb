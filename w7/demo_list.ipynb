{
 "cells": [
  {
   "cell_type": "code",
   "execution_count": 1,
   "metadata": {},
   "outputs": [
    {
     "name": "stdout",
     "output_type": "stream",
     "text": [
      "[]\n",
      "['a']\n",
      "['a', 'b', 'c']\n"
     ]
    }
   ],
   "source": [
    "# declare a list\n",
    "a = []  # empty list\n",
    "b = ['a']  # list of 1 element\n",
    "c = ['a', 'b', 'c']  # list of 3 elements\n",
    "print(a)\n",
    "print(b)\n",
    "print(c)"
   ]
  },
  {
   "cell_type": "code",
   "execution_count": 5,
   "metadata": {},
   "outputs": [
    {
     "name": "stdout",
     "output_type": "stream",
     "text": [
      "[1, 'a', 2.0, True]\n",
      "[1, 2, [3, 4]]\n"
     ]
    }
   ],
   "source": [
    "# a list can contain different types of elements\n",
    "a = [1, 'a', 2.0, True]\n",
    "print(a)\n",
    "# a list can contain another list\n",
    "a = [1, 2, [3, 4]]\n",
    "print(a)"
   ]
  },
  {
   "cell_type": "code",
   "execution_count": null,
   "metadata": {},
   "outputs": [
    {
     "name": "stdout",
     "output_type": "stream",
     "text": [
      "5\n",
      "3\n"
     ]
    }
   ],
   "source": [
    "# function len returns the number of elements in a list\n",
    "a = [1, 2, 3, 4, 5]\n",
    "print(len(a))\n",
    "a = [1, 2, [1, 2]]\n",
    "print(len(a))"
   ]
  },
  {
   "cell_type": "code",
   "execution_count": 6,
   "metadata": {},
   "outputs": [
    {
     "name": "stdout",
     "output_type": "stream",
     "text": [
      "a\n",
      "b\n"
     ]
    }
   ],
   "source": [
    "# access elements in a list using index, starting from 0\n",
    "a = ['a', 'b', 'c', 'd', 'e']\n",
    "print(a[0])\n",
    "print(a[1])"
   ]
  },
  {
   "cell_type": "code",
   "execution_count": null,
   "metadata": {},
   "outputs": [],
   "source": [
    "# you can get error if index is out of range\n",
    "print(a[5])"
   ]
  },
  {
   "cell_type": "code",
   "execution_count": 8,
   "metadata": {},
   "outputs": [
    {
     "name": "stdout",
     "output_type": "stream",
     "text": [
      "e\n",
      "d\n",
      "a\n"
     ]
    }
   ],
   "source": [
    "# negative index: -1, -2, -3, ..., -n\n",
    "print(a[-1])\n",
    "print(a[-2])\n",
    "print(a[-5])"
   ]
  },
  {
   "cell_type": "code",
   "execution_count": 10,
   "metadata": {},
   "outputs": [
    {
     "name": "stdout",
     "output_type": "stream",
     "text": [
      "Alice Bob Charlie David \n",
      "Alice Bob Charlie David "
     ]
    }
   ],
   "source": [
    "# loop through a list:\n",
    "# 1st way: using index\n",
    "names = ['Alice', 'Bob', 'Charlie', 'David']\n",
    "for i in range(len(names)):\n",
    "    print(names[i], end=' ')\n",
    "print()\n",
    "# 2nd way: using element\n",
    "for name in names:\n",
    "    print(name, end=' ')"
   ]
  },
  {
   "cell_type": "code",
   "execution_count": 11,
   "metadata": {},
   "outputs": [
    {
     "name": "stdout",
     "output_type": "stream",
     "text": [
      "[None, None, None, None, None]\n",
      "[3, 7, 8, 1, 3]\n"
     ]
    }
   ],
   "source": [
    "# declare a list of None\n",
    "a = [None] * 5\n",
    "print(a)\n",
    "\n",
    "for i in range(len(a)):\n",
    "    a[i] = int(input(f'Enter a[{i}]: '))\n",
    "\n",
    "print(a)"
   ]
  },
  {
   "cell_type": "code",
   "execution_count": null,
   "metadata": {},
   "outputs": [
    {
     "name": "stdout",
     "output_type": "stream",
     "text": [
      "[44, 36, 55, 20, 23, 47, 70, 3, 15, 6]\n",
      "min = 3\n"
     ]
    }
   ],
   "source": [
    "# basic algorithms with list: min/max, sum, count, search, sort\n",
    "# min algorithm\n",
    "import random as rd\n",
    "a = rd.sample(range(1, 100), 10)    # generate a list of 10 random numbers from 1 to 100\n",
    "print(a)\n",
    "\n",
    "# find the minimum value in a list\n",
    "min_value = a[0]            # set the first element as the minimum value\n",
    "for i in range(1, len(a)):  # start from the 2nd element to the last element\n",
    "    if a[i] < min_value:    # if the current element is less than min_value\n",
    "        min_value = a[i]    # update min_value with the current element\n",
    "print('min =', min_value)\n",
    "\n",
    "# ex1: find the maximum value in a list"
   ]
  },
  {
   "cell_type": "code",
   "execution_count": 14,
   "metadata": {},
   "outputs": [
    {
     "name": "stdout",
     "output_type": "stream",
     "text": [
      "max = 70\n"
     ]
    }
   ],
   "source": [
    "max_value = a[0]\n",
    "for i in range(1, len(a)):\n",
    "    if a[i] > max_value:\n",
    "        max_value = a[i]\n",
    "print('max =', max_value)"
   ]
  },
  {
   "cell_type": "code",
   "execution_count": null,
   "metadata": {},
   "outputs": [
    {
     "name": "stdout",
     "output_type": "stream",
     "text": [
      "sum = 319\n"
     ]
    }
   ],
   "source": [
    "s = 0\n",
    "for i in range(len(a)): # loop using index\n",
    "    s += a[i]\n",
    "print('sum =', s)"
   ]
  },
  {
   "cell_type": "code",
   "execution_count": 16,
   "metadata": {},
   "outputs": [
    {
     "name": "stdout",
     "output_type": "stream",
     "text": [
      "sum = 319\n"
     ]
    }
   ],
   "source": [
    "s = 0\n",
    "for value in a: # loop using element\n",
    "    s += value\n",
    "print('sum =', s)"
   ]
  },
  {
   "cell_type": "code",
   "execution_count": 17,
   "metadata": {},
   "outputs": [
    {
     "name": "stdout",
     "output_type": "stream",
     "text": [
      "sum of evens = 176\n",
      "sum of odds = 143\n"
     ]
    }
   ],
   "source": [
    "# ex2: calculate sum of even numbers in a list\n",
    "s = 0\n",
    "for i in range(len(a)): # loop using index\n",
    "    if a[i] % 2 == 0:\n",
    "        s += a[i]\n",
    "print('sum of evens =', s)\n",
    "# ex3: calcluate sum of odd numbers in a list\n",
    "s = 0\n",
    "for value in a: # loop using element\n",
    "    if value % 2 != 0:\n",
    "        s += value\n",
    "print('sum of odds =', s)"
   ]
  },
  {
   "cell_type": "code",
   "execution_count": 18,
   "metadata": {},
   "outputs": [
    {
     "name": "stdout",
     "output_type": "stream",
     "text": [
      "count of evens = 5\n"
     ]
    }
   ],
   "source": [
    "# count how many even numbers in a list\n",
    "count = 0\n",
    "for i in range(len(a)):\n",
    "    if a[i] % 2 == 0:\n",
    "        count += 1\n",
    "print('count of evens =', count)"
   ]
  },
  {
   "cell_type": "code",
   "execution_count": 19,
   "metadata": {},
   "outputs": [
    {
     "name": "stdout",
     "output_type": "stream",
     "text": [
      "count of odds = 5\n"
     ]
    }
   ],
   "source": [
    "# ex4: count how many odd numbers in a list\n",
    "# count how many even numbers in a list\n",
    "count = 0\n",
    "for i in range(len(a)):\n",
    "    if a[i] % 2 != 0:\n",
    "        count += 1\n",
    "print('count of odds =', count)"
   ]
  },
  {
   "cell_type": "code",
   "execution_count": 20,
   "metadata": {},
   "outputs": [
    {
     "name": "stdout",
     "output_type": "stream",
     "text": [
      "[44, 36, 55, 20, 23, 47, 70, 3, 15, 6]\n"
     ]
    }
   ],
   "source": [
    "print(a)"
   ]
  },
  {
   "cell_type": "code",
   "execution_count": null,
   "metadata": {},
   "outputs": [
    {
     "name": "stdout",
     "output_type": "stream",
     "text": [
      "Not found 100\n"
     ]
    }
   ],
   "source": [
    "# search is x in the list or not\n",
    "x = int(input('Enter x: '))\n",
    "found = False\n",
    "for item in a:\n",
    "    if item == x:\n",
    "        found = True\n",
    "if found:\n",
    "    print(f'Found {x}')\n",
    "else:\n",
    "    print(f'Not found {x}')"
   ]
  },
  {
   "cell_type": "code",
   "execution_count": 24,
   "metadata": {},
   "outputs": [
    {
     "name": "stdout",
     "output_type": "stream",
     "text": [
      "Not found 100\n"
     ]
    }
   ],
   "source": [
    "x = int(input('Enter x: '))\n",
    "pos_found = -1\n",
    "for i in range(len(a)):\n",
    "    if a[i] == x:\n",
    "        pos_found = i\n",
    "        break       # exit the loop\n",
    "if pos_found != -1:\n",
    "    print(f'Found {x} at position {pos_found}')\n",
    "else:\n",
    "    print(f'Not found {x}')"
   ]
  },
  {
   "cell_type": "code",
   "execution_count": 27,
   "metadata": {},
   "outputs": [
    {
     "name": "stdout",
     "output_type": "stream",
     "text": [
      "[44, 3, 6, 15, 20, 23, 36, 47, 55, 70]\n",
      "[3, 6, 15, 20, 23, 36, 44, 47, 55, 70]\n"
     ]
    }
   ],
   "source": [
    "# sort a list by selecting the minimum element and swap it with the first element\n",
    "print(a)\n",
    "n = len(a)\n",
    "for i in range(0, n - 1):\n",
    "    for j in range(i + 1, n):\n",
    "        if a[j] < a[i]:\n",
    "            a[i], a[j] = a[j], a[i]\n",
    "print(a)"
   ]
  },
  {
   "cell_type": "code",
   "execution_count": null,
   "metadata": {},
   "outputs": [],
   "source": [
    "# ex5: sort a list in descending order\n"
   ]
  }
 ],
 "metadata": {
  "kernelspec": {
   "display_name": "Python 3",
   "language": "python",
   "name": "python3"
  },
  "language_info": {
   "codemirror_mode": {
    "name": "ipython",
    "version": 3
   },
   "file_extension": ".py",
   "mimetype": "text/x-python",
   "name": "python",
   "nbconvert_exporter": "python",
   "pygments_lexer": "ipython3",
   "version": "3.13.2"
  }
 },
 "nbformat": 4,
 "nbformat_minor": 2
}
