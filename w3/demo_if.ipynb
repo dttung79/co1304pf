{
 "cells": [
  {
   "cell_type": "code",
   "execution_count": 5,
   "metadata": {},
   "outputs": [
    {
     "name": "stdout",
     "output_type": "stream",
     "text": [
      "You are a teenager.\n"
     ]
    }
   ],
   "source": [
    "age = 15\n",
    "if age >= 18:\n",
    "    print(\"You are an adult.\")\n",
    "else:\n",
    "    print(\"You are a teenager.\")"
   ]
  },
  {
   "cell_type": "code",
   "execution_count": 6,
   "metadata": {},
   "outputs": [
    {
     "name": "stdout",
     "output_type": "stream",
     "text": [
      "Paul is older than John.\n"
     ]
    }
   ],
   "source": [
    "john_age = int(input('How old is John? '))\n",
    "paul_age = int(input('How old is Paul? '))\n",
    "\n",
    "print('John is', john_age, 'years old.')\n",
    "print('Paul is', paul_age, 'years old.')\n",
    "\n",
    "if john_age > paul_age:\n",
    "    print('John is older than Paul.')\n",
    "else:\n",
    "    print('Paul is older than John.')"
   ]
  }
 ],
 "metadata": {
  "kernelspec": {
   "display_name": "Python 3",
   "language": "python",
   "name": "python3"
  },
  "language_info": {
   "codemirror_mode": {
    "name": "ipython",
    "version": 3
   },
   "file_extension": ".py",
   "mimetype": "text/x-python",
   "name": "python",
   "nbconvert_exporter": "python",
   "pygments_lexer": "ipython3",
   "version": "3.13.2"
  }
 },
 "nbformat": 4,
 "nbformat_minor": 2
}
