{
 "cells": [
  {
   "cell_type": "markdown",
   "id": "927f9a42",
   "metadata": {},
   "source": [
    "# Week 3: Conditional Statements"
   ]
  },
  {
   "cell_type": "markdown",
   "id": "7757dde0",
   "metadata": {},
   "source": [
    "## Introduction to Conditionals\n",
    "- A conditional statement allows a program to make decisions.\n",
    "- It checks if a condition is `True` and executes the corresponding block of code."
   ]
  },
  {
   "cell_type": "code",
   "execution_count": null,
   "id": "3595b811",
   "metadata": {},
   "outputs": [],
   "source": [
    "# Example: Check if age is 18 or older\n",
    "age = 20\n",
    "if age >= 18:\n",
    "    print('You are an adult.')"
   ]
  },
  {
   "cell_type": "markdown",
   "id": "572a80a2",
   "metadata": {},
   "source": [
    "## The `if` Statement"
   ]
  },
  {
   "cell_type": "code",
   "execution_count": null,
   "id": "5b38e1f9",
   "metadata": {},
   "outputs": [],
   "source": [
    "# Example: Checking if a score is passing\n",
    "score = 75\n",
    "if score > 50:\n",
    "    print('You passed!')"
   ]
  },
  {
   "cell_type": "markdown",
   "id": "7addcf1e",
   "metadata": {},
   "source": [
    "### Exercises:\n",
    "1. Write a program that checks if a user’s inputted temperature is above freezing.\n",
    "   - Hint: Ask the user for input and compare it to 0."
   ]
  },
  {
   "cell_type": "markdown",
   "id": "836c53cf",
   "metadata": {},
   "source": [
    "## The `else` Statement"
   ]
  },
  {
   "cell_type": "code",
   "execution_count": null,
   "id": "27fb1d1f",
   "metadata": {},
   "outputs": [],
   "source": [
    "# Example: Checking age eligibility to vote\n",
    "age = 16\n",
    "if age >= 18:\n",
    "    print('You can vote.')\n",
    "else:\n",
    "    print('You are too young to vote.')"
   ]
  },
  {
   "cell_type": "markdown",
   "id": "a4b95442",
   "metadata": {},
   "source": [
    "### Exercises:\n",
    "1. Write a program that checks if a number is even or odd.\n",
    "   - Hint: Use modulus (%) operator to check divisibility by 2."
   ]
  },
  {
   "cell_type": "markdown",
   "id": "5b027ca5",
   "metadata": {},
   "source": [
    "## The `elif` Statement"
   ]
  },
  {
   "cell_type": "code",
   "execution_count": null,
   "id": "9650557c",
   "metadata": {},
   "outputs": [],
   "source": [
    "# Example: Grading system\n",
    "score = 85\n",
    "if score >= 90:\n",
    "    print('A')\n",
    "elif score >= 80:\n",
    "    print('B')\n",
    "elif score >= 70:\n",
    "    print('C')\n",
    "else:\n",
    "    print('Fail')"
   ]
  },
  {
   "cell_type": "markdown",
   "id": "27e4a369",
   "metadata": {},
   "source": [
    "### Exercises:\n",
    "1. Write a program that categorizes a person’s age group (child, teenager, adult, senior).\n",
    "   - Hint: Use multiple `elif` statements for different age ranges."
   ]
  },
  {
   "cell_type": "markdown",
   "id": "00740486",
   "metadata": {},
   "source": [
    "## Comparison Operators"
   ]
  },
  {
   "cell_type": "code",
   "execution_count": null,
   "id": "d8c82b3f",
   "metadata": {},
   "outputs": [],
   "source": [
    "# Example: Checking temperature\n",
    "temperature = 35\n",
    "if temperature > 30:\n",
    "    print(\"It's hot outside!\")"
   ]
  },
  {
   "cell_type": "markdown",
   "id": "10ec9d51",
   "metadata": {},
   "source": [
    "### Exercises:\n",
    "1. Write a program that checks if a user’s input is greater than 100.\n",
    "   - Hint: Use input() to take a number and compare it with 100."
   ]
  },
  {
   "cell_type": "markdown",
   "id": "a77d9450",
   "metadata": {},
   "source": [
    "## Logical Operators"
   ]
  },
  {
   "cell_type": "code",
   "execution_count": null,
   "id": "6e1f49d8",
   "metadata": {},
   "outputs": [],
   "source": [
    "# Example: Checking if user can enter a club\n",
    "age = 20\n",
    "has_id = True\n",
    "if age >= 18 and has_id:\n",
    "    print('You can enter.')"
   ]
  },
  {
   "cell_type": "markdown",
   "id": "1b41d3d0",
   "metadata": {},
   "source": [
    "### Exercises:\n",
    "1. Write a program that checks if a person is eligible for a discount if they are a student or a senior.\n",
    "   - Hint: Use `or` operator to check both conditions."
   ]
  },
  {
   "cell_type": "markdown",
   "id": "9449d9ab",
   "metadata": {},
   "source": [
    "## Boolean Data Type"
   ]
  },
  {
   "cell_type": "code",
   "execution_count": null,
   "id": "06ec5fcf",
   "metadata": {},
   "outputs": [],
   "source": [
    "# Example: Boolean variable for rain\n",
    "is_raining = True\n",
    "if is_raining:\n",
    "    print('Take an umbrella!')"
   ]
  },
  {
   "cell_type": "markdown",
   "id": "12acc975",
   "metadata": {},
   "source": [
    "### Exercises:\n",
    "1. Write a program that checks if today is a weekend.\n",
    "   - Hint: Ask the user to input the day of the week and check if it's Saturday or Sunday."
   ]
  },
  {
   "cell_type": "markdown",
   "id": "7f744e54",
   "metadata": {},
   "source": [
    "## Nested Conditionals"
   ]
  },
  {
   "cell_type": "code",
   "execution_count": null,
   "id": "6ea3822c",
   "metadata": {},
   "outputs": [],
   "source": [
    "# Example: Checking movie entry eligibility\n",
    "age = 18\n",
    "has_ticket = True\n",
    "if age >= 18:\n",
    "    if has_ticket:\n",
    "        print('You can watch the movie.')\n",
    "    else:\n",
    "        print('You need a ticket.')\n",
    "else:\n",
    "    print('You are too young for this movie.')"
   ]
  },
  {
   "cell_type": "markdown",
   "id": "07c30ee8",
   "metadata": {},
   "source": [
    "### Exercises:\n",
    "1. Write a program that checks if a user can enter an amusement park ride based on height & age requirement.\n",
    "   - Hint: Use nested `if` statements to check both conditions."
   ]
  },
  {
   "cell_type": "markdown",
   "id": "2d312bdd",
   "metadata": {},
   "source": [
    "## Defensive Programming"
   ]
  },
  {
   "cell_type": "code",
   "execution_count": null,
   "id": "b95139cb",
   "metadata": {},
   "outputs": [],
   "source": [
    "# Example: Validating user input\n",
    "operation = input('Enter +, -, * or /: ')\n",
    "if operation in ['+', '-', '*', '/']:\n",
    "    print(f'You chose {operation}.')\n",
    "else:\n",
    "    print('Invalid operation.')"
   ]
  },
  {
   "cell_type": "markdown",
   "id": "b3c767c0",
   "metadata": {},
   "source": [
    "### Exercises:\n",
    "1. Write a program that asks for an age and ensures the input is a valid positive integer.\n",
    "   - Hint: Use `isdigit()` to check if input is a number."
   ]
  },
  {
   "cell_type": "markdown",
   "id": "66eb7556",
   "metadata": {},
   "source": [
    "## Summary\n",
    "- **if, elif, else** for decision making\n",
    "- **Comparison and logical operators** for conditions\n",
    "- **Boolean values** to improve readability\n",
    "- **Defensive programming** for handling unexpected inputs\n",
    "- **Exercises** for deeper understanding"
   ]
  }
 ],
 "metadata": {
  "language_info": {
   "name": "python"
  }
 },
 "nbformat": 4,
 "nbformat_minor": 5
}
