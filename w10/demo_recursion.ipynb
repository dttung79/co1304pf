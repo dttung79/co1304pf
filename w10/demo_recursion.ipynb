{
 "cells": [
  {
   "cell_type": "code",
   "execution_count": 1,
   "id": "44cf81e0",
   "metadata": {},
   "outputs": [
    {
     "name": "stdout",
     "output_type": "stream",
     "text": [
      "5 4 3 2 1 0 "
     ]
    }
   ],
   "source": [
    "# Recursive function: A function that calls itself\n",
    "# Base case: The condition under which the recursion ends\n",
    "# Recursive case: The condition under which the recursion continues\n",
    "\n",
    "def print_n(n):\n",
    "    if n < 0:       # Base case\n",
    "        return\n",
    "    print(n, end=' ')  # Print the current value of n\n",
    "    print_n(n - 1)  # Recursive case\n",
    "\n",
    "print_n(5)"
   ]
  },
  {
   "cell_type": "code",
   "execution_count": 2,
   "id": "335caaaf",
   "metadata": {},
   "outputs": [
    {
     "name": "stdout",
     "output_type": "stream",
     "text": [
      "120\n"
     ]
    }
   ],
   "source": [
    "def factorial(n):\n",
    "    if n <= 1:\n",
    "        return 1\n",
    "\n",
    "    return n * factorial(n - 1)\n",
    "print(factorial(5))  # Output: 120"
   ]
  },
  {
   "cell_type": "code",
   "execution_count": 3,
   "id": "d43173f0",
   "metadata": {},
   "outputs": [
    {
     "name": "stdout",
     "output_type": "stream",
     "text": [
      "15\n"
     ]
    }
   ],
   "source": [
    "def sum_n(n):\n",
    "    if n == 1:\n",
    "        return 1\n",
    "\n",
    "    return n + sum_n(n - 1)\n",
    "\n",
    "print(sum_n(5))  # Output: 15"
   ]
  }
 ],
 "metadata": {
  "kernelspec": {
   "display_name": "Python 3",
   "language": "python",
   "name": "python3"
  },
  "language_info": {
   "codemirror_mode": {
    "name": "ipython",
    "version": 3
   },
   "file_extension": ".py",
   "mimetype": "text/x-python",
   "name": "python",
   "nbconvert_exporter": "python",
   "pygments_lexer": "ipython3",
   "version": "3.13.2"
  }
 },
 "nbformat": 4,
 "nbformat_minor": 5
}
