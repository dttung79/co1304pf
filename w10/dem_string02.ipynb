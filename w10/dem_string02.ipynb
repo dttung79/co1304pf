{
 "cells": [
  {
   "cell_type": "code",
   "execution_count": 3,
   "id": "6233b5cd",
   "metadata": {},
   "outputs": [
    {
     "name": "stdout",
     "output_type": "stream",
     "text": [
      "Hello python WORLD\n"
     ]
    }
   ],
   "source": [
    "s = 'Hello python WORLD'\n",
    "print(s)"
   ]
  },
  {
   "cell_type": "code",
   "execution_count": 4,
   "id": "e51ccaab",
   "metadata": {},
   "outputs": [
    {
     "name": "stdout",
     "output_type": "stream",
     "text": [
      "hello python world\n",
      "HELLO PYTHON WORLD\n"
     ]
    }
   ],
   "source": [
    "print(s.lower()) # convert all characters to lowercase\n",
    "print(s.upper()) # convert all characters to uppercase"
   ]
  },
  {
   "cell_type": "code",
   "execution_count": 7,
   "id": "9a22e529",
   "metadata": {},
   "outputs": [
    {
     "name": "stdout",
     "output_type": "stream",
     "text": [
      "Hello Python World\n",
      "Hello python world\n",
      "hELLO PYTHON world\n"
     ]
    }
   ],
   "source": [
    "print(s.title()) # convert first character of each word to uppercase\n",
    "print(s.capitalize()) # convert first character of string to uppercase\n",
    "print(s.swapcase()) # swap case of all characters"
   ]
  },
  {
   "cell_type": "code",
   "execution_count": 16,
   "id": "b7e14756",
   "metadata": {},
   "outputs": [
    {
     "name": "stdout",
     "output_type": "stream",
     "text": [
      "+Hello python WORLD   +\n",
      "+     Hello python WORLD+\n",
      "+Hello python WORLD+\n",
      "+     Hello python WORLD   +\n"
     ]
    }
   ],
   "source": [
    "s = '     Hello python WORLD   '\n",
    "print(f'+{s.lstrip()}+') # right align with 30 characters\n",
    "print(f'+{s.rstrip()}+') # left align with 30 characters\n",
    "print(f'+{s.strip()}+') # center align with 30 characters\n",
    "print(f'+{s}+') # center align with 30 characters"
   ]
  },
  {
   "cell_type": "code",
   "execution_count": 15,
   "id": "c8f23775",
   "metadata": {},
   "outputs": [
    {
     "name": "stdout",
     "output_type": "stream",
     "text": [
      "Hello Java World\n",
      "Hello Python World\n"
     ]
    }
   ],
   "source": [
    "s = 'Hello Python World'\n",
    "print(s.replace('Python', 'Java')) # replace substring\n",
    "print(s) # original string is unchanged"
   ]
  },
  {
   "cell_type": "code",
   "execution_count": 18,
   "id": "2f011b95",
   "metadata": {},
   "outputs": [
    {
     "name": "stdout",
     "output_type": "stream",
     "text": [
      "Zoel\n",
      "Alice\n",
      "['Alice', 'Bob', 'Charlie', 'Dylan', 'Mike', 'Zoel']\n",
      "['Dylan', 'Zoel', 'Alice', 'Bob', 'Charlie', 'Mike']\n"
     ]
    }
   ],
   "source": [
    "names = ['Dylan', 'Zoel', 'Alice', 'Bob', 'Charlie', 'Mike']\n",
    "print(max(names)) # find the maximum value in the list\n",
    "print(min(names)) # find the minimum value in the list\n",
    "print(sorted(names)) # sort the list\n",
    "print(names) # original list is unchanged"
   ]
  },
  {
   "cell_type": "code",
   "execution_count": 19,
   "id": "65f3cef3",
   "metadata": {},
   "outputs": [
    {
     "name": "stdout",
     "output_type": "stream",
     "text": [
      "Hello World\n"
     ]
    }
   ],
   "source": [
    "# string operators: + and *\n",
    "s1 = 'Hello'\n",
    "s2 = 'World'\n",
    "s3 = s1 + ' ' + s2\n",
    "print(s3) # concatenate strings"
   ]
  },
  {
   "cell_type": "code",
   "execution_count": 20,
   "id": "e7980488",
   "metadata": {},
   "outputs": [
    {
     "name": "stdout",
     "output_type": "stream",
     "text": [
      "++$$++++$$++++$$++\n"
     ]
    }
   ],
   "source": [
    "s = '++$$++'\n",
    "print(s * 3) # repeat string 3 times"
   ]
  },
  {
   "cell_type": "code",
   "execution_count": null,
   "id": "e69a07b7",
   "metadata": {},
   "outputs": [
    {
     "name": "stdout",
     "output_type": "stream",
     "text": [
      "* \n",
      "* * \n",
      "* * * \n",
      "* * * * \n"
     ]
    }
   ],
   "source": [
    "for i in range(1, 5):\n",
    "    print('* ' * i) # print '* ' i times"
   ]
  },
  {
   "cell_type": "code",
   "execution_count": null,
   "id": "c40ae524",
   "metadata": {},
   "outputs": [
    {
     "name": "stdout",
     "output_type": "stream",
     "text": [
      "      * \n",
      "    * * \n",
      "  * * * \n",
      "* * * * \n"
     ]
    }
   ],
   "source": [
    "n = 5\n",
    "for i in range(1, n):\n",
    "    print('  ' * (n - i - 1), end='') # print spaces without newline\n",
    "    print('* ' * i) # print '* ' i times"
   ]
  },
  {
   "cell_type": "code",
   "execution_count": 26,
   "id": "cb5dc9c6",
   "metadata": {},
   "outputs": [
    {
     "name": "stdout",
     "output_type": "stream",
     "text": [
      "Java is not present in the string\n"
     ]
    }
   ],
   "source": [
    "# using in or not in to check if a substring is present in a string\n",
    "s = 'Hello Python World'\n",
    "language = 'Java'\n",
    "if language in s:\n",
    "    print(f'{language} is present in the string')\n",
    "else:\n",
    "    print(f'{language} is not present in the string')"
   ]
  },
  {
   "cell_type": "code",
   "execution_count": 31,
   "id": "2f76dcdc",
   "metadata": {},
   "outputs": [
    {
     "name": "stdout",
     "output_type": "stream",
     "text": [
      "True\n",
      "True\n",
      "True\n",
      "True\n",
      "True\n",
      "True\n"
     ]
    }
   ],
   "source": [
    "# string classification: isalpha, isdigit, isalnum, isspace, isupper, islower\n",
    "print('Hello'.isalpha()) # check if all characters are alphabetic\n",
    "print('123'.isdigit()) # check if all characters are digits\n",
    "print('Hello123'.isalnum()) # check if all characters are alphanumeric\n",
    "print('   '.isspace()) # check if all characters are whitespace\n",
    "print('HELLO'.isupper()) # check if all characters are uppercase\n",
    "print('hello'.islower()) # check if all characters are lowercase"
   ]
  },
  {
   "cell_type": "code",
   "execution_count": 32,
   "id": "0b7a253e",
   "metadata": {},
   "outputs": [
    {
     "name": "stdout",
     "output_type": "stream",
     "text": [
      "6\n",
      "-1\n",
      "True\n",
      "True\n",
      "3\n"
     ]
    }
   ],
   "source": [
    "# string search methods: find, startswith, endswith, count\n",
    "s = 'Hello Python World'\n",
    "print(s.find('Python')) # find the index of substring\n",
    "print(s.find('Java')) # find the index of substring (not found)\n",
    "print(s.startswith('Hello')) # check if string starts with substring\n",
    "print(s.endswith('World')) # check if string ends with substring\n",
    "print(s.count('o')) # count occurrences of substring"
   ]
  },
  {
   "cell_type": "code",
   "execution_count": 33,
   "id": "abebfe2b",
   "metadata": {},
   "outputs": [
    {
     "name": "stdout",
     "output_type": "stream",
     "text": [
      "hell* pyth*n w*rld\n"
     ]
    }
   ],
   "source": [
    "# chaining string methods\n",
    "s = '    Hello Python World      '\n",
    "s = s.strip().lower().replace('o', '*')\n",
    "print(s) # print the modified string"
   ]
  },
  {
   "cell_type": "code",
   "execution_count": 35,
   "id": "864fe29d",
   "metadata": {},
   "outputs": [
    {
     "name": "stdout",
     "output_type": "stream",
     "text": [
      "Oh ****!\n"
     ]
    }
   ],
   "source": [
    "ban_words = ['shit', 'fuck', 'cunt']\n",
    "sentence = input('Enter a sentence: ')\n",
    "for word in ban_words:\n",
    "    if word in sentence:\n",
    "        sentence = sentence.replace(word, '*' * len(word))\n",
    "print(sentence)  # print the modified sentence"
   ]
  },
  {
   "cell_type": "code",
   "execution_count": 36,
   "id": "1c959a9f",
   "metadata": {},
   "outputs": [
    {
     "name": "stdout",
     "output_type": "stream",
     "text": [
      "['123', '456', '789']\n"
     ]
    }
   ],
   "source": [
    "# split function: split string into a list\n",
    "s = '123#456#789'\n",
    "a = s.split('#')\n",
    "print(a)"
   ]
  },
  {
   "cell_type": "code",
   "execution_count": 37,
   "id": "f3212b71",
   "metadata": {},
   "outputs": [
    {
     "name": "stdout",
     "output_type": "stream",
     "text": [
      "There are 9 words in the sentence.\n"
     ]
    }
   ],
   "source": [
    "s = 'The quick brown fox jumps over the lazy dog'\n",
    "n = len(s.split(' '))\n",
    "print(f'There are {n} words in the sentence.')"
   ]
  }
 ],
 "metadata": {
  "kernelspec": {
   "display_name": "Python 3",
   "language": "python",
   "name": "python3"
  },
  "language_info": {
   "codemirror_mode": {
    "name": "ipython",
    "version": 3
   },
   "file_extension": ".py",
   "mimetype": "text/x-python",
   "name": "python",
   "nbconvert_exporter": "python",
   "pygments_lexer": "ipython3",
   "version": "3.13.2"
  }
 },
 "nbformat": 4,
 "nbformat_minor": 5
}
