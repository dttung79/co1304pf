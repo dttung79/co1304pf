{
 "cells": [
  {
   "cell_type": "code",
   "execution_count": 4,
   "id": "2069e6b4",
   "metadata": {},
   "outputs": [
    {
     "name": "stdout",
     "output_type": "stream",
     "text": [
      "Translation not found.\n"
     ]
    }
   ],
   "source": [
    "languages = {\n",
    "    'hello': 'xin chào',\n",
    "    'goodbye': 'tạm biệt',\n",
    "    'please': 'làm ơn',\n",
    "    'thank you': 'cảm ơn bạn',\n",
    "    'yes': 'vâng',\n",
    "    'no': 'không',\n",
    "}\n",
    "\n",
    "def translate(word):\n",
    "    if word in languages:\n",
    "        print(f'Translation: {languages[word]}')\n",
    "    else:\n",
    "        print('Translation not found.')\n",
    "\n",
    "word = input('Enter a word to translate: ')\n",
    "translate(word)"
   ]
  }
 ],
 "metadata": {
  "kernelspec": {
   "display_name": "Python 3",
   "language": "python",
   "name": "python3"
  },
  "language_info": {
   "codemirror_mode": {
    "name": "ipython",
    "version": 3
   },
   "file_extension": ".py",
   "mimetype": "text/x-python",
   "name": "python",
   "nbconvert_exporter": "python",
   "pygments_lexer": "ipython3",
   "version": "3.13.2"
  }
 },
 "nbformat": 4,
 "nbformat_minor": 5
}
