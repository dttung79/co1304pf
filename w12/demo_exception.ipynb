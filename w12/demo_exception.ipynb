{
 "cells": [
  {
   "cell_type": "code",
   "execution_count": null,
   "id": "25fe6271",
   "metadata": {},
   "outputs": [],
   "source": [
    "# Some popular exceptions:\n",
    "# - ValueError\n",
    "# - KeyError\n",
    "# - IndexError\n",
    "# - FileNotFoundError\n",
    "# - ZeroDivisionError"
   ]
  },
  {
   "cell_type": "code",
   "execution_count": null,
   "id": "2fe48d4e",
   "metadata": {},
   "outputs": [],
   "source": [
    "a = int(input(\"Enter a number: \"))  # possible ValueError\n",
    "print(a)"
   ]
  },
  {
   "cell_type": "code",
   "execution_count": null,
   "id": "6c836b92",
   "metadata": {},
   "outputs": [],
   "source": [
    "d = {\"a\": 1, \"b\": 2}\n",
    "k = input(\"Enter a key: \")  \n",
    "print(f'Value for key {k}: {d[k]}') # possible KeyError"
   ]
  },
  {
   "cell_type": "code",
   "execution_count": null,
   "id": "248a45c3",
   "metadata": {},
   "outputs": [],
   "source": [
    "a = [1, 2, 3]\n",
    "i = int(input(\"Enter an index: \"))\n",
    "print(f'Value for index {i}: {a[i]}')  # possible IndexError"
   ]
  },
  {
   "cell_type": "code",
   "execution_count": null,
   "id": "d9dc8422",
   "metadata": {},
   "outputs": [],
   "source": [
    "f = open('abc.txt', 'r')  # possible FileNotFoundError\n",
    "print(f.read())\n",
    "f.close()"
   ]
  },
  {
   "cell_type": "code",
   "execution_count": null,
   "id": "7e6bbc94",
   "metadata": {},
   "outputs": [],
   "source": [
    "a = int(input(\"Enter a: \"))\n",
    "b = int(input(\"Enter b: \"))\n",
    "c = a / b  # possible ZeroDivisionError\n",
    "print(f'{a} / {b} = {c}')"
   ]
  },
  {
   "cell_type": "code",
   "execution_count": 17,
   "id": "53c59948",
   "metadata": {},
   "outputs": [
    {
     "name": "stdout",
     "output_type": "stream",
     "text": [
      "Invalid input. Please enter a valid integer.\n"
     ]
    }
   ],
   "source": [
    "try:\n",
    "    a = int(input(\"Enter a number: \"))  # possible ValueError\n",
    "    print(a)\n",
    "except ValueError:\n",
    "    print(\"Invalid input. Please enter a valid integer.\")"
   ]
  },
  {
   "cell_type": "code",
   "execution_count": null,
   "id": "51623382",
   "metadata": {},
   "outputs": [],
   "source": [
    "# Exercise: using try ... except to handle the other exceptions: KeyError, IndexError, FileNotFoundError, ZeroDivisionError"
   ]
  },
  {
   "cell_type": "code",
   "execution_count": 20,
   "id": "d6f52560",
   "metadata": {},
   "outputs": [
    {
     "name": "stdout",
     "output_type": "stream",
     "text": [
      "Key c not found in dictionary.\n"
     ]
    }
   ],
   "source": [
    "try:\n",
    "    d = {\"a\": 1, \"b\": 2}\n",
    "    k = input(\"Enter a key: \")  \n",
    "    print(f'Value for key {k}: {d[k]}') # possible KeyError\n",
    "except KeyError:\n",
    "    print(f'Key {k} not found in dictionary.')"
   ]
  },
  {
   "cell_type": "code",
   "execution_count": 26,
   "id": "e0081c40",
   "metadata": {},
   "outputs": [
    {
     "name": "stdout",
     "output_type": "stream",
     "text": [
      "10 / 12 = 0.8333333333333334\n"
     ]
    }
   ],
   "source": [
    "try:\n",
    "    a = [20, 10, 0, 12, 6]\n",
    "    m = int(input(\"Enter an index: \"))\n",
    "    n = int(input(\"Enter an index: \"))\n",
    "    p = a[m] / a[n]\n",
    "    print(f'{a[m]} / {a[n]} = {p}') \n",
    "except ValueError:\n",
    "    print(\"Invalid input. Please enter a valid integer.\")\n",
    "except IndexError:\n",
    "    print(f'Index {m} or {n} out of range.')\n",
    "except ZeroDivisionError:\n",
    "    print(f'Cannot divide by zero.')"
   ]
  },
  {
   "cell_type": "code",
   "execution_count": 27,
   "id": "bb265dc4",
   "metadata": {},
   "outputs": [],
   "source": [
    "def get_int(prompt):\n",
    "    while True:\n",
    "        try:\n",
    "            return int(input(prompt))\n",
    "        except ValueError:\n",
    "            print(\"Invalid input. Please enter a valid integer.\")"
   ]
  },
  {
   "cell_type": "code",
   "execution_count": 28,
   "id": "ae403dd2",
   "metadata": {},
   "outputs": [
    {
     "name": "stdout",
     "output_type": "stream",
     "text": [
      "Invalid input. Please enter a valid integer.\n",
      "Invalid input. Please enter a valid integer.\n",
      "Invalid input. Please enter a valid integer.\n",
      "1203\n"
     ]
    }
   ],
   "source": [
    "a = get_int(\"Enter a number: \")\n",
    "print(a)"
   ]
  },
  {
   "cell_type": "code",
   "execution_count": 31,
   "id": "5b5deec2",
   "metadata": {},
   "outputs": [
    {
     "name": "stdout",
     "output_type": "stream",
     "text": [
      "Invalid input. Please enter a valid float.\n",
      "Invalid input. Please enter a valid float.\n",
      "111.0\n"
     ]
    }
   ],
   "source": [
    "# exercise 2: write get_float similar to get_int\n",
    "def get_float(prompt):\n",
    "    while True:\n",
    "        try:\n",
    "            return float(input(prompt))\n",
    "        except ValueError:\n",
    "            print(\"Invalid input. Please enter a valid float.\")\n",
    "a = get_float(\"Enter a float: \")\n",
    "print(a)"
   ]
  },
  {
   "cell_type": "code",
   "execution_count": 32,
   "id": "317c41b5",
   "metadata": {},
   "outputs": [
    {
     "name": "stdout",
     "output_type": "stream",
     "text": [
      "Try 1: Invalid input. Please enter a valid integer.\n",
      "Try 2: Invalid input. Please enter a valid integer.\n",
      "Too many invalid attempts.\n",
      "None\n"
     ]
    }
   ],
   "source": [
    "# exercise 3: write get_int(prompt, n_tries) that will ask for a number n_tries times and return None if the user fails to enter a valid number\n",
    "def get_int(prompt, n_tries=3):\n",
    "    for i in range(n_tries):\n",
    "        try:\n",
    "            return int(input(prompt))\n",
    "        except ValueError:\n",
    "            print(f\"Try {i + 1}: Invalid input. Please enter a valid integer.\")\n",
    "    print(\"Too many invalid attempts.\")\n",
    "    return None\n",
    "a = get_int(\"Enter a number: \", 2)\n",
    "print(a)"
   ]
  }
 ],
 "metadata": {
  "kernelspec": {
   "display_name": "Python 3",
   "language": "python",
   "name": "python3"
  },
  "language_info": {
   "codemirror_mode": {
    "name": "ipython",
    "version": 3
   },
   "file_extension": ".py",
   "mimetype": "text/x-python",
   "name": "python",
   "nbconvert_exporter": "python",
   "pygments_lexer": "ipython3",
   "version": "3.13.2"
  }
 },
 "nbformat": 4,
 "nbformat_minor": 5
}
