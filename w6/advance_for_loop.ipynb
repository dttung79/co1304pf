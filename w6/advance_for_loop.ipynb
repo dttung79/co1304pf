{
 "cells": [
  {
   "cell_type": "code",
   "execution_count": 3,
   "metadata": {},
   "outputs": [
    {
     "name": "stdout",
     "output_type": "stream",
     "text": [
      "Sum from 1 to 20 = 210\n"
     ]
    }
   ],
   "source": [
    "# calcualte sum of numbers\n",
    "n = int(input(\"Enter the number of numbers: \"))\n",
    "s = 0\n",
    "for i in range(1, n + 1):\n",
    "    s = s + i # s += i\n",
    "\n",
    "print(f'Sum from 1 to {n} = {s}')"
   ]
  },
  {
   "cell_type": "code",
   "execution_count": null,
   "metadata": {},
   "outputs": [
    {
     "name": "stdout",
     "output_type": "stream",
     "text": [
      "Sum from 3 to 5 = 12\n"
     ]
    }
   ],
   "source": [
    "# similar exercise: calculate sum from n to m\n",
    "n = int(input(\"Enter the first number: \"))\n",
    "m = int(input(\"Enter the second number: \"))\n",
    "s = 0\n",
    "\n",
    "for i in range(n, m + 1):\n",
    "    s += i\n",
    "\n",
    "print(f'Sum from {n} to {m} = {s}')"
   ]
  },
  {
   "cell_type": "code",
   "execution_count": 5,
   "metadata": {},
   "outputs": [
    {
     "name": "stdout",
     "output_type": "stream",
     "text": [
      "10! = 3628800\n"
     ]
    }
   ],
   "source": [
    "# Similar exercise: Calculate product of 1 to n\n",
    "n = int(input(\"Enter the number: \"))\n",
    "p = 1\n",
    "\n",
    "for i in range(1, n + 1):\n",
    "    p *= i\n",
    "\n",
    "print(f'{n}! = {p}')"
   ]
  },
  {
   "cell_type": "code",
   "execution_count": 6,
   "metadata": {},
   "outputs": [
    {
     "name": "stdout",
     "output_type": "stream",
     "text": [
      "1 1 2 3 5 8 13 21 34 55 "
     ]
    }
   ],
   "source": [
    "# print Fibonacci numbers\n",
    "n = int(input('Enter n: '))\n",
    "a = 1\n",
    "b = 1\n",
    "print(a, b, end=' ')\n",
    "for i in range(n - 2):\n",
    "    c = a\n",
    "    a = b\n",
    "    b = a + c\n",
    "    print(b, end=' ')"
   ]
  },
  {
   "cell_type": "code",
   "execution_count": 8,
   "metadata": {},
   "outputs": [
    {
     "name": "stdout",
     "output_type": "stream",
     "text": [
      "-3 -38 9 0 \n",
      "There are 2 positive numbers (including 0)\n",
      "There are 2 negative numbers\n"
     ]
    }
   ],
   "source": [
    "n = int(input('Enter n: '))\n",
    "count = 0\n",
    "for i in range(n):\n",
    "    a = int(input('Enter a number: '))\n",
    "    print(a, end=' ')\n",
    "    if a >= 0:\n",
    "        count += 1\n",
    "print()\n",
    "print(f'There are {count} positive numbers (including 0)')\n",
    "print(f'There are {n - count} negative numbers')"
   ]
  },
  {
   "cell_type": "code",
   "execution_count": 9,
   "metadata": {},
   "outputs": [
    {
     "name": "stdout",
     "output_type": "stream",
     "text": [
      "1 2 3 4 5 \n",
      "There are 2 even numbers and 3 odd numbers\n"
     ]
    }
   ],
   "source": [
    "# similar exercise: enter n numbers, count how many are even, odd?\n",
    "n = int(input('Enter n: '))\n",
    "count = 0\n",
    "\n",
    "for i in range(n):\n",
    "    a = int(input('Enter a number: '))\n",
    "    print(a, end=' ')\n",
    "    if a % 2 == 0:\n",
    "        count += 1\n",
    "\n",
    "print()\n",
    "print(f'There are {count} even numbers and {n - count} odd numbers')"
   ]
  }
 ],
 "metadata": {
  "kernelspec": {
   "display_name": "Python 3",
   "language": "python",
   "name": "python3"
  },
  "language_info": {
   "codemirror_mode": {
    "name": "ipython",
    "version": 3
   },
   "file_extension": ".py",
   "mimetype": "text/x-python",
   "name": "python",
   "nbconvert_exporter": "python",
   "pygments_lexer": "ipython3",
   "version": "3.13.2"
  }
 },
 "nbformat": 4,
 "nbformat_minor": 2
}
